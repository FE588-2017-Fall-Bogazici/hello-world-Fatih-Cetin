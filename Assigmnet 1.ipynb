{
 "cells": [
  {
   "cell_type": "code",
   "execution_count": 23,
   "metadata": {
    "scrolled": true
   },
   "outputs": [
    {
     "name": "stdout",
     "output_type": "stream",
     "text": [
      "FATİH ÇETİN\n"
     ]
    }
   ],
   "source": [
    "print(\"FATİH ÇETİN\")\n"
   ]
  },
  {
   "cell_type": "code",
   "execution_count": 37,
   "metadata": {
    "scrolled": true
   },
   "outputs": [
    {
     "name": "stdout",
     "output_type": "stream",
     "text": [
      "0.20 -3.36\n",
      "0.30 -3.01\n",
      "0.40 -2.64\n",
      "0.50 -2.25\n",
      "0.60 -1.84\n",
      "0.70 -1.41\n",
      "0.80 -0.96\n",
      "0.90 -0.49\n",
      "1.00 -0.00\n",
      "1.10 0.51\n"
     ]
    }
   ],
   "source": [
    "x=0.1\n",
    "for i in range (0,10):\n",
    "    x +=0.1\n",
    "    a=x**2+3*x-4    \n",
    "    print(\"%1.2f\" %x,\"%1.2f\" %a)\n",
    "   "
   ]
  },
  {
   "cell_type": "code",
   "execution_count": null,
   "metadata": {
    "collapsed": true
   },
   "outputs": [],
   "source": []
  }
 ],
 "metadata": {
  "kernelspec": {
   "display_name": "Python 3",
   "language": "python",
   "name": "python3"
  },
  "language_info": {
   "codemirror_mode": {
    "name": "ipython",
    "version": 3
   },
   "file_extension": ".py",
   "mimetype": "text/x-python",
   "name": "python",
   "nbconvert_exporter": "python",
   "pygments_lexer": "ipython3",
   "version": "3.6.2"
  }
 },
 "nbformat": 4,
 "nbformat_minor": 2
}

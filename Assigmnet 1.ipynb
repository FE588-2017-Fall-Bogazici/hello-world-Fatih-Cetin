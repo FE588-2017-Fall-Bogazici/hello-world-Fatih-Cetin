{
 "cells": [
  {
   "cell_type": "code",
   "execution_count": 23,
   "metadata": {
    "scrolled": true
   },
   "outputs": [
    {
     "name": "stdout",
     "output_type": "stream",
     "text": [
      "FATİH ÇETİN\n"
     ]
    }
   ],
   "source": [
    "print(\"FATİH ÇETİN\")\n"
   ]
  },
  {
   "cell_type": "code",
   "execution_count": 38,
   "metadata": {
    "scrolled": true
   },
   "outputs": [
    {
     "name": "stdout",
     "output_type": "stream",
     "text": [
      "0.10 -3.69\n",
      "0.20 -3.36\n",
      "0.30 -3.01\n",
      "0.40 -2.64\n",
      "0.50 -2.25\n",
      "0.60 -1.84\n",
      "0.70 -1.41\n",
      "0.80 -0.96\n",
      "0.90 -0.49\n",
      "1.00 -0.00\n"
     ]
    }
   ],
   "source": [
    "x=0.1\n",
    "for i in range (0,10):\n",
    "    \n",
    "    a=x**2+3*x-4    \n",
    "    print(\"%1.2f\" %x,\"%1.2f\" %a)\n",
    "    x +=0.1"
   ]
  },
  {
   "cell_type": "code",
   "execution_count": 19,
   "metadata": {},
   "outputs": [
    {
     "name": "stdout",
     "output_type": "stream",
     "text": [
      "1.4142141342163086\n"
     ]
    }
   ],
   "source": [
    "left=0\n",
    "right=2\n",
    "for i in range(100):\n",
    "    mid=(left+right)/2\n",
    "    fmid=mid**2-2\n",
    "    if fmid<=0:\n",
    "        signmid=-1\n",
    "    else:\n",
    "        signmid=1\n",
    "    \n",
    "    fleft=left**2-2\n",
    "    \n",
    "    if fleft<=0:\n",
    "        signleft=-1\n",
    "    else:\n",
    "        signleft=1\n",
    "    if signmid==signleft:\n",
    "        left=mid\n",
    "    else:\n",
    "        right=mid\n",
    "        \n",
    "    if right-left<0.000001:\n",
    "        print(mid)\n",
    "        break"
   ]
  }
 ],
 "metadata": {
  "kernelspec": {
   "display_name": "Python 3",
   "language": "python",
   "name": "python3"
  },
  "language_info": {
   "codemirror_mode": {
    "name": "ipython",
    "version": 3
   },
   "file_extension": ".py",
   "mimetype": "text/x-python",
   "name": "python",
   "nbconvert_exporter": "python",
   "pygments_lexer": "ipython3",
   "version": "3.6.2"
  }
 },
 "nbformat": 4,
 "nbformat_minor": 2
}

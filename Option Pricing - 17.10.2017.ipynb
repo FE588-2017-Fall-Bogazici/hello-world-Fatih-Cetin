{
 "cells": [
  {
   "cell_type": "code",
   "execution_count": 11,
   "metadata": {},
   "outputs": [
    {
     "name": "stdout",
     "output_type": "stream",
     "text": [
      "S0\tstock price at time 0: 100\n",
      "K\tstrike price: 120\n",
      "r\tcontinuously compounded risk-free rate: 0.05\n",
      "sigma\tvolatility of the stock price per year: 0.05\n",
      "T\ttime to maturity in trading years: 1\n",
      "c_BS\tBlack-Scholes price: 0.00673727281915 0.0\n"
     ]
    }
   ],
   "source": [
    "##Option Pricing - Black Scholes\n",
    "r=0.05\n",
    "S0=100\n",
    "K=120\n",
    "sigma=0.05\n",
    "T=1\n",
    "\n",
    "import numpy as np\n",
    "import scipy.stats as ss\n",
    "import time \n",
    "\n",
    "#Black and Scholes\n",
    "def d1(S0, K, r, sigma, T):\n",
    "    return (np.log(S0/K) + (r + sigma**2 / 2) * T)/(sigma * np.sqrt(T))\n",
    " \n",
    "def d2(S0, K, r, sigma, T):\n",
    "    return (np.log(S0/K) + (r - sigma**2 / 2) * T) / (sigma * np.sqrt(T))\n",
    " \n",
    "def BlackScholes(type,S0, K, r, sigma, T):\n",
    "    if type==\"C\":\n",
    "        return S0 * ss.norm.cdf(d1(S0, K, r, sigma, T)) - K * np.exp(-r * T) * ss.norm.cdf(d2(S0, K, r, sigma, T))\n",
    "    else:\n",
    "        return K * np.exp(-r * T) * ss.norm.cdf(-d2(S0, K, r, sigma, T)) - S0 * ss.norm.cdf(-d1(S0, K, r, sigma, T))\n",
    "\n",
    "\n",
    "r=0.05\n",
    "S0=100\n",
    "K=120\n",
    "sigma=0.05\n",
    "T=1\n",
    "    \n",
    "Otype='C'\n",
    "\n",
    "print (\"S0\\tstock price at time 0:\", S0)\n",
    "print (\"K\\tstrike price:\", K)\n",
    "print (\"r\\tcontinuously compounded risk-free rate:\", r)\n",
    "print (\"sigma\\tvolatility of the stock price per year:\", sigma)\n",
    "print (\"T\\ttime to maturity in trading years:\", T)\n",
    "\n",
    "\n",
    "t=time.time()\n",
    "c_BS = BlackScholes(Otype,S0, K, r, sigma, T)\n",
    "elapsed=time.time()-t\n",
    "print (\"c_BS\\tBlack-Scholes price:\", c_BS, elapsed)"
   ]
  },
  {
   "cell_type": "code",
   "execution_count": 23,
   "metadata": {},
   "outputs": [
    {
     "name": "stdout",
     "output_type": "stream",
     "text": [
      "Call price =  0.00680685178255\n",
      "Put price =  14.1599016106\n"
     ]
    }
   ],
   "source": [
    "##Option Pricing\n",
    "import numpy as np\n",
    "\n",
    "r=0.05\n",
    "S0=100\n",
    "K=120\n",
    "sigma=0.05\n",
    "T=1\n",
    "\n",
    "np.random.randn()\n",
    "\n",
    "N=100000\n",
    "\n",
    "C=0\n",
    "P=0\n",
    "for i in range(N):\n",
    "    WT=np.random.randn()*np.sqrt(T)\n",
    "    ST=S0*np.exp((r-0.5*sigma**2)*T + sigma*WT)\n",
    "    C += max(0, ST-K)\n",
    "    P += max(0,K-ST)\n",
    "    \n",
    "call_price = (C/N)*np.exp(-r*T)\n",
    "put_price = (P/N)*np.exp(-r*T)\n",
    "\n",
    "print('Call price = ', call_price)\n",
    "print('Put price = ', put_price)"
   ]
  },
  {
   "cell_type": "code",
   "execution_count": 66,
   "metadata": {},
   "outputs": [
    {
     "name": "stdout",
     "output_type": "stream",
     "text": [
      "Asian\n",
      "Call price =  0.0\n",
      "Put price =  0.00081162735373\n"
     ]
    }
   ],
   "source": [
    "##Option Pricing - Asia\n",
    "import numpy as np\n",
    "\n",
    "r=0.05\n",
    "S0=100\n",
    "K=110\n",
    "sigma=0.01\n",
    "T=1\n",
    "\n",
    "np.random.randn()\n",
    "\n",
    "EPOCH=100000\n",
    "N=12\n",
    "\n",
    "C=0\n",
    "P=0\n",
    "for i in range(N):\n",
    "    S_bar=0\n",
    "    S=S0\n",
    "    for j in range(N):\n",
    "        WT=np.random.randn()*np.sqrt(T/N)\n",
    "        S=S*np.exp((r-0.5*sigma**2)*(T/N) + sigma*WT)\n",
    "        S_bar += S\n",
    "    S_bar /= N    \n",
    "    C += max(0,S_bar-K)\n",
    "    P += max(0,K-S_bar)\n",
    "    \n",
    "call_price = (C/EPOCH)*np.exp(-r*T)\n",
    "put_price = (P/EPOCH)*np.exp(-r*T)\n",
    "\n",
    "print('Asian')\n",
    "print('Call price = ', call_price)\n",
    "print('Put price = ', put_price)"
   ]
  },
  {
   "cell_type": "code",
   "execution_count": 6,
   "metadata": {
    "scrolled": true
   },
   "outputs": [
    {
     "name": "stdout",
     "output_type": "stream",
     "text": [
      "[2, 0, 4]\n"
     ]
    }
   ],
   "source": [
    "L = [3,2,1,0,4,7,9]\n",
    "#create a list even number only\n",
    "L2=[]\n",
    "\n",
    "for e in L:\n",
    "    if e%2==0:\n",
    "        L2.append(e)\n",
    "    else:\n",
    "        pass\n",
    "\n",
    "print(L2)"
   ]
  },
  {
   "cell_type": "code",
   "execution_count": 89,
   "metadata": {
    "scrolled": true
   },
   "outputs": [
    {
     "name": "stdout",
     "output_type": "stream",
     "text": [
      "[2, 0, 4]\n"
     ]
    }
   ],
   "source": [
    "L2=list(filter(lambda x: x%2==0, L))\n",
    "print(L2)"
   ]
  },
  {
   "cell_type": "code",
   "execution_count": 90,
   "metadata": {
    "collapsed": true
   },
   "outputs": [],
   "source": [
    "def is_even(x):\n",
    "    return x%2==0"
   ]
  },
  {
   "cell_type": "code",
   "execution_count": 91,
   "metadata": {},
   "outputs": [
    {
     "name": "stdout",
     "output_type": "stream",
     "text": [
      "[2, 0, 4]\n"
     ]
    }
   ],
   "source": [
    "L2=list(filter(is_even,L))\n",
    "print(L2)"
   ]
  },
  {
   "cell_type": "code",
   "execution_count": 96,
   "metadata": {},
   "outputs": [
    {
     "name": "stdout",
     "output_type": "stream",
     "text": [
      "2 0 4 "
     ]
    }
   ],
   "source": [
    "for x in filter(is_even,L):\n",
    "    print(x, end=' ')"
   ]
  },
  {
   "cell_type": "code",
   "execution_count": 30,
   "metadata": {},
   "outputs": [
    {
     "name": "stdout",
     "output_type": "stream",
     "text": [
      "[2, 0, 4, 3, 1, 7, 9]\n"
     ]
    }
   ],
   "source": [
    "\n",
    "def is_even(x):\n",
    "    return x%2==0\n",
    "L2=list(filter(is_even,L))\n",
    "\n",
    "def is_odd(y):\n",
    "    return y%2!=0\n",
    "L3=list(filter(is_odd,L))\n",
    "L4=L2+L3\n",
    "print(L4)"
   ]
  },
  {
   "cell_type": "code",
   "execution_count": 31,
   "metadata": {},
   "outputs": [
    {
     "data": {
      "text/plain": [
       "[2, 0, 4, 3, 1, 7, 9]"
      ]
     },
     "execution_count": 31,
     "metadata": {},
     "output_type": "execute_result"
    }
   ],
   "source": [
    "##OR\n",
    "list(filter(is_even,L))+list(filter(lambda x: x%2==1,L))"
   ]
  },
  {
   "cell_type": "code",
   "execution_count": 32,
   "metadata": {},
   "outputs": [
    {
     "data": {
      "text/plain": [
       "array([2, 0, 4])"
      ]
     },
     "execution_count": 32,
     "metadata": {},
     "output_type": "execute_result"
    }
   ],
   "source": [
    "##OR\n",
    "import numpy as np\n",
    "U=np.array(L)\n",
    "U[U%2==0]"
   ]
  },
  {
   "cell_type": "code",
   "execution_count": 33,
   "metadata": {},
   "outputs": [
    {
     "data": {
      "text/plain": [
       "2.0"
      ]
     },
     "execution_count": 33,
     "metadata": {},
     "output_type": "execute_result"
    }
   ],
   "source": [
    "import numpy as np\n",
    "np.mean(list(filter(is_even,L)))"
   ]
  },
  {
   "cell_type": "code",
   "execution_count": 36,
   "metadata": {},
   "outputs": [
    {
     "data": {
      "text/plain": [
       "2.0"
      ]
     },
     "execution_count": 36,
     "metadata": {},
     "output_type": "execute_result"
    }
   ],
   "source": [
    "from functools import reduce\n",
    "\n",
    "reduce(lambda x,y: x+y, filter(is_even,L))/len(list(filter(is_even,L)))"
   ]
  },
  {
   "cell_type": "code",
   "execution_count": 37,
   "metadata": {},
   "outputs": [
    {
     "data": {
      "text/plain": [
       "[10, 5, 2, 1, 17, 50, 82]"
      ]
     },
     "execution_count": 37,
     "metadata": {},
     "output_type": "execute_result"
    }
   ],
   "source": [
    "list(map(lambda x: x**2+1,L))"
   ]
  }
 ],
 "metadata": {
  "kernelspec": {
   "display_name": "Python 3",
   "language": "python",
   "name": "python3"
  },
  "language_info": {
   "codemirror_mode": {
    "name": "ipython",
    "version": 3
   },
   "file_extension": ".py",
   "mimetype": "text/x-python",
   "name": "python",
   "nbconvert_exporter": "python",
   "pygments_lexer": "ipython3",
   "version": "3.6.2"
  }
 },
 "nbformat": 4,
 "nbformat_minor": 2
}

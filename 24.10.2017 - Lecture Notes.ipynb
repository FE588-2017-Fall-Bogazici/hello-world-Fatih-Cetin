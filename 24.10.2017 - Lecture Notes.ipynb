{
 "cells": [
  {
   "cell_type": "code",
   "execution_count": 32,
   "metadata": {},
   "outputs": [
    {
     "name": "stdout",
     "output_type": "stream",
     "text": [
      "0.0498\n",
      "0.0497870683679\n"
     ]
    }
   ],
   "source": [
    "#Import Sampling\n",
    "\n",
    "import numpy as np\n",
    "\n",
    "##\n",
    "N=100000\n",
    "z=3\n",
    "rho = 1\n",
    "\n",
    "s=0\n",
    "\n",
    "for i in range (N):\n",
    "    x = np.random.exponential(scale=1./rho)\n",
    "    if x>z:\n",
    "        s+=1\n",
    "\n",
    "print(s/N)\n",
    "print(np.exp(-rho*z))\n",
    "\n"
   ]
  },
  {
   "cell_type": "code",
   "execution_count": 41,
   "metadata": {},
   "outputs": [
    {
     "ename": "SyntaxError",
     "evalue": "unexpected EOF while parsing (<ipython-input-41-cd346e165e6d>, line 20)",
     "output_type": "error",
     "traceback": [
      "\u001b[1;36m  File \u001b[1;32m\"<ipython-input-41-cd346e165e6d>\"\u001b[1;36m, line \u001b[1;32m20\u001b[0m\n\u001b[1;33m    print(np.exp(-rho*z)\u001b[0m\n\u001b[1;37m                        ^\u001b[0m\n\u001b[1;31mSyntaxError\u001b[0m\u001b[1;31m:\u001b[0m unexpected EOF while parsing\n"
     ]
    }
   ],
   "source": [
    "# Variance Reduction metodoloy\n",
    "import numpy as np\n",
    "\n",
    "##\n",
    "N=100000\n",
    "z=3\n",
    "rho = 1\n",
    "r=0.01\n",
    "s=0\n",
    "\n",
    "for i in range (N):\n",
    "    x = rho*np.random.exponential(scale=1./rho)\n",
    "    \n",
    "    W=rho/s*np.exp(-(rho-r)*x)\n",
    "    \n",
    "    if x>z:\n",
    "        s+=W\n",
    "\n",
    "print(s/N)\n",
    "print(np.exp(-rho*z)\n",
    "\n"
   ]
  },
  {
   "cell_type": "code",
   "execution_count": 44,
   "metadata": {},
   "outputs": [
    {
     "name": "stdout",
     "output_type": "stream",
     "text": [
      "Fatih\n",
      "Çetin\n",
      "28\n"
     ]
    }
   ],
   "source": [
    "#data dictionaries\n",
    "\n",
    "person = {'name': 'Fatih', 'surname': 'Çetin','age':28}\n",
    "person2 = {'name': 'Ahmet', 'surname': 'Ahmetoğlu','age':12}\n",
    "person3 = {'name': 'Çetin', 'surname': 'Çetin','age':62}\n",
    "\n",
    "print(person['name'])\n",
    "print(person['surname'])\n",
    "print(person['age'])"
   ]
  },
  {
   "cell_type": "code",
   "execution_count": 47,
   "metadata": {},
   "outputs": [
    {
     "name": "stdout",
     "output_type": "stream",
     "text": [
      "Çetin\n",
      "Ahmetoğlu\n",
      "Çetin\n"
     ]
    }
   ],
   "source": [
    "people = [person,person2,person3]\n",
    "\n",
    "for x in people:\n",
    "    print(x['surname'])"
   ]
  },
  {
   "cell_type": "code",
   "execution_count": 61,
   "metadata": {},
   "outputs": [
    {
     "data": {
      "text/plain": [
       "{' ': 45,\n",
       " '(': 1,\n",
       " ')': 1,\n",
       " ',': 1,\n",
       " '-': 3,\n",
       " '.': 4,\n",
       " '1': 1,\n",
       " '2': 2,\n",
       " '3': 1,\n",
       " '6': 1,\n",
       " '9': 3,\n",
       " 'A': 1,\n",
       " 'C': 1,\n",
       " 'D': 1,\n",
       " 'E': 2,\n",
       " 'I': 3,\n",
       " 'J': 3,\n",
       " 'L': 1,\n",
       " 'M': 1,\n",
       " 'N': 2,\n",
       " 'O': 2,\n",
       " 'P': 1,\n",
       " 'S': 4,\n",
       " 'a': 26,\n",
       " 'b': 4,\n",
       " 'c': 6,\n",
       " 'd': 9,\n",
       " 'e': 20,\n",
       " 'f': 4,\n",
       " 'g': 8,\n",
       " 'h': 6,\n",
       " 'i': 15,\n",
       " 'j': 1,\n",
       " 'l': 1,\n",
       " 'm': 6,\n",
       " 'n': 13,\n",
       " 'o': 11,\n",
       " 'p': 3,\n",
       " 'r': 15,\n",
       " 's': 12,\n",
       " 't': 21,\n",
       " 'u': 3,\n",
       " 'v': 2,\n",
       " 'w': 2,\n",
       " 'y': 2}"
      ]
     },
     "execution_count": 61,
     "metadata": {},
     "output_type": "execute_result"
    }
   ],
   "source": [
    "txt = 'JSON (JavaScript Object Notation) is a lightweight data-interchange format. It is easy for humans to read and write. It is easy for machines to parse and generate. It is based on a subset of the JavaScript Programming Language, Standard ECMA-262 3rd Edition - December 1999. '\n",
    "\n",
    "counts = {}\n",
    "for i in range(len(txt)):\n",
    "    key = txt[i]\n",
    "    if key in counts.keys():\n",
    "        counts[key] +=1\n",
    "    else:\n",
    "        counts[key]=1\n",
    "        \n",
    "counts\n"
   ]
  },
  {
   "cell_type": "code",
   "execution_count": 62,
   "metadata": {},
   "outputs": [
    {
     "data": {
      "text/plain": [
       "{' ': 45,\n",
       " '(': 1,\n",
       " ')': 1,\n",
       " ',': 1,\n",
       " '-': 3,\n",
       " '.': 4,\n",
       " '1': 1,\n",
       " '2': 2,\n",
       " '3': 1,\n",
       " '6': 1,\n",
       " '9': 3,\n",
       " 'A': 1,\n",
       " 'C': 1,\n",
       " 'D': 1,\n",
       " 'E': 2,\n",
       " 'I': 3,\n",
       " 'J': 3,\n",
       " 'L': 1,\n",
       " 'M': 1,\n",
       " 'N': 2,\n",
       " 'O': 2,\n",
       " 'P': 1,\n",
       " 'S': 4,\n",
       " 'a': 26,\n",
       " 'b': 4,\n",
       " 'c': 6,\n",
       " 'd': 9,\n",
       " 'e': 20,\n",
       " 'f': 4,\n",
       " 'g': 8,\n",
       " 'h': 6,\n",
       " 'i': 15,\n",
       " 'j': 1,\n",
       " 'l': 1,\n",
       " 'm': 6,\n",
       " 'n': 13,\n",
       " 'o': 11,\n",
       " 'p': 3,\n",
       " 'r': 15,\n",
       " 's': 12,\n",
       " 't': 21,\n",
       " 'u': 3,\n",
       " 'v': 2,\n",
       " 'w': 2,\n",
       " 'y': 2}"
      ]
     },
     "execution_count": 62,
     "metadata": {},
     "output_type": "execute_result"
    }
   ],
   "source": [
    "txt = 'JSON (JavaScript Object Notation) is a lightweight data-interchange format. It is easy for humans to read and write. It is easy for machines to parse and generate. It is based on a subset of the JavaScript Programming Language, Standard ECMA-262 3rd Edition - December 1999. '\n",
    "\n",
    "counts = {}\n",
    "for i in range(len(txt)):\n",
    "    key = txt[i]\n",
    "    if key in counts.keys():\n",
    "        counts[key] +=1\n",
    "    else:\n",
    "        counts[key]=1\n",
    "        \n",
    "counts"
   ]
  },
  {
   "cell_type": "code",
   "execution_count": 60,
   "metadata": {},
   "outputs": [
    {
     "ename": "NameError",
     "evalue": "name 'o' is not defined",
     "output_type": "error",
     "traceback": [
      "\u001b[1;31m---------------------------------------------------------------------------\u001b[0m",
      "\u001b[1;31mNameError\u001b[0m                                 Traceback (most recent call last)",
      "\u001b[1;32m<ipython-input-60-3993ef74883a>\u001b[0m in \u001b[0;36m<module>\u001b[1;34m()\u001b[0m\n\u001b[0;32m      1\u001b[0m \u001b[0mtxt\u001b[0m \u001b[1;33m=\u001b[0m \u001b[1;34m'babababbcbcbcbbcbcbcbcbcbbbaba'\u001b[0m\u001b[1;33m\u001b[0m\u001b[0m\n\u001b[1;32m----> 2\u001b[1;33m \u001b[0mcounts\u001b[0m \u001b[1;33m=\u001b[0m \u001b[1;33m{\u001b[0m\u001b[1;34m'a'\u001b[0m\u001b[1;33m:\u001b[0m\u001b[1;36m0\u001b[0m\u001b[1;33m,\u001b[0m \u001b[1;34m'b'\u001b[0m\u001b[1;33m:\u001b[0m\u001b[1;36m0\u001b[0m\u001b[1;33m,\u001b[0m \u001b[1;34m'c'\u001b[0m\u001b[1;33m:\u001b[0m\u001b[0mo\u001b[0m\u001b[1;33m}\u001b[0m\u001b[1;33m\u001b[0m\u001b[0m\n\u001b[0m\u001b[0;32m      3\u001b[0m \u001b[1;33m\u001b[0m\u001b[0m\n\u001b[0;32m      4\u001b[0m \u001b[1;32mfor\u001b[0m \u001b[0mi\u001b[0m \u001b[1;32min\u001b[0m \u001b[0mrange\u001b[0m\u001b[1;33m(\u001b[0m\u001b[0mlen\u001b[0m\u001b[1;33m(\u001b[0m\u001b[0mtxt\u001b[0m\u001b[1;33m)\u001b[0m\u001b[1;33m)\u001b[0m\u001b[1;33m:\u001b[0m\u001b[1;33m\u001b[0m\u001b[0m\n\u001b[0;32m      5\u001b[0m     \u001b[0mcounts\u001b[0m\u001b[1;33m[\u001b[0m\u001b[0mtxt\u001b[0m\u001b[1;33m[\u001b[0m\u001b[0mi\u001b[0m\u001b[1;33m]\u001b[0m\u001b[1;33m]\u001b[0m\u001b[1;33m+=\u001b[0m\u001b[1;36m1\u001b[0m\u001b[1;33m\u001b[0m\u001b[0m\n",
      "\u001b[1;31mNameError\u001b[0m: name 'o' is not defined"
     ]
    }
   ],
   "source": [
    "txt = 'babababbcbcbcbbcbcbcbcbcbbbaba'\n",
    "counts = {'a':0, 'b':0, 'c':o}\n",
    "\n",
    "for i in range(len(txt)):\n",
    "    counts[txt[i]]+=1\n",
    "    \n",
    "counts\n",
    "\n",
    "counts['d'] = 0"
   ]
  },
  {
   "cell_type": "code",
   "execution_count": null,
   "metadata": {
    "collapsed": true
   },
   "outputs": [],
   "source": [
    "txt = 'JSON (JavaScript Object Notation) is a lightweight data-interchange format. It is easy for humans to read and write. It is easy for machines to parse and generate. It is based on a subset of the JavaScript Programming Language, Standard ECMA-262 3rd Edition - December 1999. '\n",
    "\n",
    "temp=txt\n",
    "remove_list=['(']"
   ]
  },
  {
   "cell_type": "code",
   "execution_count": 56,
   "metadata": {},
   "outputs": [
    {
     "ename": "NameError",
     "evalue": "name 'counts' is not defined",
     "output_type": "error",
     "traceback": [
      "\u001b[1;31m---------------------------------------------------------------------------\u001b[0m",
      "\u001b[1;31mNameError\u001b[0m                                 Traceback (most recent call last)",
      "\u001b[1;32m<ipython-input-56-eb45d3f04b5a>\u001b[0m in \u001b[0;36m<module>\u001b[1;34m()\u001b[0m\n\u001b[1;32m----> 1\u001b[1;33m \u001b[0mcounts\u001b[0m\u001b[1;33m.\u001b[0m\u001b[0mkeys\u001b[0m\u001b[1;33m(\u001b[0m\u001b[1;33m)\u001b[0m\u001b[1;33m\u001b[0m\u001b[0m\n\u001b[0m",
      "\u001b[1;31mNameError\u001b[0m: name 'counts' is not defined"
     ]
    }
   ],
   "source": [
    "counts.keys()"
   ]
  }
 ],
 "metadata": {
  "kernelspec": {
   "display_name": "Python 3",
   "language": "python",
   "name": "python3"
  },
  "language_info": {
   "codemirror_mode": {
    "name": "ipython",
    "version": 3
   },
   "file_extension": ".py",
   "mimetype": "text/x-python",
   "name": "python",
   "nbconvert_exporter": "python",
   "pygments_lexer": "ipython3",
   "version": "3.6.2"
  }
 },
 "nbformat": 4,
 "nbformat_minor": 2
}

{
 "cells": [
  {
   "cell_type": "code",
   "execution_count": 2,
   "metadata": {
    "collapsed": false
   },
   "outputs": [
    {
     "ename": "NameError",
     "evalue": "global name 'Price_C' is not defined",
     "output_type": "error",
     "traceback": [
      "\u001b[0;31m---------------------------------------------------------------------------\u001b[0m",
      "\u001b[0;31mNameError\u001b[0m                                 Traceback (most recent call last)",
      "\u001b[0;32m<ipython-input-2-55739d89ca13>\u001b[0m in \u001b[0;36m<module>\u001b[0;34m()\u001b[0m\n\u001b[1;32m     66\u001b[0m     \u001b[1;32mreturn\u001b[0m \u001b[0mPrice_C\u001b[0m\u001b[1;33m,\u001b[0m \u001b[0mPrice_P\u001b[0m\u001b[1;33m\u001b[0m\u001b[0m\n\u001b[1;32m     67\u001b[0m \u001b[1;33m\u001b[0m\u001b[0m\n\u001b[0;32m---> 68\u001b[0;31m \u001b[1;32mprint\u001b[0m \u001b[0mOptionPrices\u001b[0m\u001b[1;33m(\u001b[0m\u001b[0mFloatingLookback\u001b[0m\u001b[1;33m,\u001b[0m\u001b[0mParams\u001b[0m\u001b[1;33m)\u001b[0m\u001b[1;33m\u001b[0m\u001b[0m\n\u001b[0m\u001b[1;32m     69\u001b[0m \u001b[1;32mprint\u001b[0m \u001b[0mOptionPrices\u001b[0m\u001b[1;33m(\u001b[0m\u001b[0mEuropean\u001b[0m\u001b[1;33m,\u001b[0m\u001b[0mParams\u001b[0m\u001b[1;33m)\u001b[0m\u001b[1;33m\u001b[0m\u001b[0m\n",
      "\u001b[0;32m<ipython-input-2-55739d89ca13>\u001b[0m in \u001b[0;36mOptionPrices\u001b[0;34m(type_of_option, Params)\u001b[0m\n\u001b[1;32m     13\u001b[0m     \u001b[0mSt\u001b[0m \u001b[1;33m=\u001b[0m \u001b[0mParams\u001b[0m\u001b[1;33m[\u001b[0m\u001b[1;34m'S0'\u001b[0m\u001b[1;33m]\u001b[0m\u001b[1;33m*\u001b[0m\u001b[0mnp\u001b[0m\u001b[1;33m.\u001b[0m\u001b[0mones\u001b[0m\u001b[1;33m(\u001b[0m\u001b[0mParams\u001b[0m\u001b[1;33m[\u001b[0m\u001b[1;34m'N'\u001b[0m\u001b[1;33m]\u001b[0m\u001b[1;33m)\u001b[0m\u001b[1;33m\u001b[0m\u001b[0m\n\u001b[1;32m     14\u001b[0m     \u001b[0mSmean\u001b[0m \u001b[1;33m=\u001b[0m \u001b[0mnp\u001b[0m\u001b[1;33m.\u001b[0m\u001b[0mzeros\u001b[0m\u001b[1;33m(\u001b[0m\u001b[0mParams\u001b[0m\u001b[1;33m[\u001b[0m\u001b[1;34m'N'\u001b[0m\u001b[1;33m]\u001b[0m\u001b[1;33m)\u001b[0m\u001b[1;33m\u001b[0m\u001b[0m\n\u001b[0;32m---> 15\u001b[0;31m     \u001b[1;32mreturn\u001b[0m \u001b[0mPrice_C\u001b[0m\u001b[1;33m,\u001b[0m \u001b[0mPrice_P\u001b[0m\u001b[1;33m\u001b[0m\u001b[0m\n\u001b[0m\u001b[1;32m     16\u001b[0m \u001b[1;33m\u001b[0m\u001b[0m\n\u001b[1;32m     17\u001b[0m \u001b[1;33m\u001b[0m\u001b[0m\n",
      "\u001b[0;31mNameError\u001b[0m: global name 'Price_C' is not defined"
     ]
    }
   ],
   "source": [
    "import numpy as np\n",
    "import random\n",
    "from math import exp\n",
    "\n",
    "Params = {'InterestRate' : 0.11, 'Volatility' : 0.25, 'S0' : 1, 'T':1. ,'Strike':1. ,'Steps':1000 ,'N':10000 }\n",
    "type_of_option = {'European','Asian','Lookback','FloatingLookback'}\n",
    "\n",
    "\n",
    "def OptionPrices(type_of_option, Params):\n",
    "    Tstep = Params['T']/Params['Steps']\n",
    "    Smax = Params['S0']*np.ones(Params['N'])\n",
    "    Smin = Params['S0']*np.ones(Params['N'])\n",
    "    St = Params['S0']*np.ones(Params['N'])\n",
    "    Smean = np.zeros(Params['N'])\n",
    "    return Price_C, Price_P\n",
    "\n",
    "\n",
    "\n",
    "def European(Params):\n",
    "    W = np.sqrt(Params['T'])*np.random.standard_normal(Params['N'])\n",
    "    ST = Params['S0']*np.exp(Params['T']*(Params['InterestRate']-0.5*Params['Volatility']**2) + Params['Volatility']*W)\n",
    "    CT = np.maximum(ST-Params['Strike'], 0)\n",
    "    PT = np.maximum(Params['Strike']-ST, 0)\n",
    "    Price_C = CT.mean()*np.exp(-Params['InterestRate']*Params['T'])\n",
    "    Price_P = PT.mean()*np.exp(-Params['InterestRate']*Params['T'])\n",
    "    return Price_C, Price_P\n",
    "\n",
    "def Lookback(Params):\n",
    "    for t in range(Params['Steps']):\n",
    "        W = np.sqrt(Tstep)*np.random.standard_normal(Params['N'])\n",
    "        St = St*np.exp(Tstep*(Params['InterestRate']-0.5*Params['Volatility']**2) + Params['Volatility']*W)\n",
    "        Smax = np.maximum(St, Smax)\n",
    "        Smin = np.minimum(St, Smin)\n",
    "\n",
    "    CT = np.maximum(Smax-Params['Strike'], 0)\n",
    "    PT = np.maximum(Params['Strike']-Smin, 0)\n",
    "    Price_Call = CT.mean()*np.exp(-Params['InterestRate']*Params['T'])\n",
    "    Price_Put = PT.mean()*np.exp(-Params['InterestRate']*Params['T'])\n",
    "    return Price_C, Price_P\n",
    "\n",
    "def Asian(Params):\n",
    "    for t in range(Params['Steps']):\n",
    "        W = np.sqrt(Tstep)*np.random.standard_normal(Params[N])\n",
    "        St = St*np.exp(Tstep*(Params['InterestRate']-0.5*Params['Volatility']**2) + Params['Volatility']*W)\n",
    "        i = t+1\n",
    "        Smean = (i-1)*Smean/i + St/i\n",
    "        \n",
    "    CT = np.maximum(Smean-Params['Strike'], 0)\n",
    "    PT = np.maximum(Params['Strike']-Smean, 0)\n",
    "    Price_C = CT.mean()*np.exp(-Params['InterestRate']*Params['T'])\n",
    "    Price_P = PT.mean()*np.exp(-Params['InterestRate']*Params['T'])\n",
    "    return Price_C, Price_P\n",
    "\n",
    "def FloatingLookback(Params):\n",
    "    for t in range(Params['Steps']):\n",
    "        W = np.sqrt(Tstep)*np.random.standard_normal(Params[N])\n",
    "        St = St*np.exp(Tstep*(Params['InterestRate']-0.5*Params['Volatility']**2) + Params['Volatility']*W)\n",
    "        Smax = np.maximum(St, Smax)\n",
    "        Smin = np.minimum(St, Smin)\n",
    "\n",
    "    CT = np.maximum(St-Smin, 0)\n",
    "    PT = np.maximum(Smax-St, 0)\n",
    "\n",
    "    Price_C = CT.mean()*np.exp(-Params['InterestRate']*Params['T'])\n",
    "    Price_P = PT.mean()*np.exp(-Params['InterestRate']*Params['T'])\n",
    "    return Price_C, Price_P\n",
    "\n",
    "print OptionPrices(FloatingLookback,Params)\n",
    "print OptionPrices(European,Params)"
   ]
  },
  {
   "cell_type": "code",
   "execution_count": null,
   "metadata": {
    "collapsed": true
   },
   "outputs": [],
   "source": [
    "def Lookback(Param, S0=1., T=1., Strike=1., Steps=12, N=10000 ):\n",
    "\n",
    "    Tstep = T/Steps\n",
    "    Smax = S0*np.ones(N)\n",
    "    Smin = S0*np.ones(N)\n",
    "    St = S0*np.ones(N)\n",
    "    \n",
    "    for t in range(Steps):\n",
    "        W = np.sqrt(Tstep)*np.random.standard_normal(N)\n",
    "        St = St*np.exp(Tstep*(Param['InterestRate']-0.5*Param['Volatility']**2) + Param['Volatility']*W)\n",
    "        Smax = np.maximum(St, Smax)\n",
    "        Smin = np.minimum(St, Smin)\n",
    "\n",
    "    CT = np.maximum(Smax-Strike, 0)\n",
    "    PT = np.maximum(Strike-Smin, 0)\n",
    "\n",
    "    Price_C = CT.mean()*np.exp(-Param['InterestRate']*T)\n",
    "    Price_P = PT.mean()*np.exp(-Param['InterestRate']*T)\n",
    "    return Price_C, Price_P"
   ]
  },
  {
   "cell_type": "code",
   "execution_count": null,
   "metadata": {
    "collapsed": true
   },
   "outputs": [],
   "source": [
    " Price_Call, Price_Put = OptionPrices(type_of_option, Params)\n",
    "        type_of_option = 'European'\n",
    "                        'Asian', 'Lookback', 'FloatingLookback'\n",
    "        \n",
    "        Param: Market parameters, a catalog with fields \n",
    "            Param['InterestRate'] : Yearly risk free interest rate\n",
    "            Param['Volatility'] : \n",
    "            Param['S0'] : Initial asset price\n",
    "            Param['T'] : Time Period (in Years)\n",
    "            Param['Strike']\n",
    "            Param['Steps'] : Number of steps to monitor the stock price\n",
    "            Param['N'] : Number of Monte Carlo Samples\n",
    "   "
   ]
  },
  {
   "cell_type": "code",
   "execution_count": null,
   "metadata": {
    "collapsed": false
   },
   "outputs": [],
   "source": [
    "import numpy as np\n",
    "\n",
    "Params = {'InterestRate' : 0.11, 'Volatility' : 0.25, 'S0' : 1, 'T':1. ,'Strike':1. ,'Steps':1000 ,'N':10000 }\n",
    "\n",
    "W = np.sqrt(Params['T'])*np.random.standard_normal(Params['N'])\n",
    "ST = Params['S0']*np.exp(Params['T']*(Params['InterestRate']-0.5*Params['Volatility']**2) + Params['Volatility']*W)\n",
    "\n",
    "def European(Params):\n",
    "    CT = np.maximum(ST-Params['Strike'], 0)\n",
    "    PT = np.maximum(Params['Strike']-ST, 0)\n",
    "    Price_C = CT.mean()*np.exp(-Params['InterestRate']*Params['T'])\n",
    "    Price_P = PT.mean()*np.exp(-Params['InterestRate']*Params['T'])\n",
    "    return Price_C, Price_P\n",
    "\n",
    "print Price_C\n",
    "print Price_P"
   ]
  },
  {
   "cell_type": "code",
   "execution_count": null,
   "metadata": {
    "collapsed": false
   },
   "outputs": [],
   "source": [
    "import sys\n",
    "\n",
    "\n",
    "N = int(raw_input().strip())\n",
    "\n",
    "if N % 2:\n",
    "    print \"weird\""
   ]
  },
  {
   "cell_type": "code",
   "execution_count": 24,
   "metadata": {
    "collapsed": false
   },
   "outputs": [
    {
     "name": "stdout",
     "output_type": "stream",
     "text": [
      "0.228337015929\n",
      "0.15325885063\n"
     ]
    }
   ],
   "source": [
    "import numpy as np\n",
    "import random\n",
    "from math import exp\n",
    "\n",
    "Params = {'InterestRate' : 0.11, 'Volatility' : 0.25, 'S0' : 1, 'T':1. ,'Strike':1. ,'Steps':1000 ,'N':10000 }\n",
    "type_of_option = {'European','Asian','Lookback','FloatingLookback'}\n",
    "\n",
    "\n",
    "def OptionPrices(type_of_option, Params):\n",
    "    Tstep = Params['T']/Params['Steps']\n",
    "    Smax = Params['S0']*np.ones(Params['N'])\n",
    "    Smin = Params['S0']*np.ones(Params['N'])\n",
    "    St = Params['S0']*np.ones(Params['N'])\n",
    "    Smean = np.zeros(Params['N'])\n",
    "\n",
    "    if type_of_option is 'European':\n",
    "        W = np.sqrt(Params['T'])*np.random.standard_normal(Params['N'])\n",
    "        ST = Params['S0']*np.exp(Params['T']*(Params['InterestRate']-0.5*Params['Volatility']**2) + Params['Volatility']*W)\n",
    "        CT = np.maximum(ST-Params['Strike'], 0)\n",
    "        PT = np.maximum(Params['Strike']-ST, 0)\n",
    "\n",
    "    elif type_of_option is 'Lookback':\n",
    "        for t in range(Params['Steps']):\n",
    "            W = np.sqrt(Tstep)*np.random.standard_normal(Params['N'])\n",
    "            St = St*np.exp(Tstep*(Params['InterestRate']-0.5*Params['Volatility']**2) + Params['Volatility']*W)\n",
    "            Smax = np.maximum(St, Smax)\n",
    "            Smin = np.minimum(St, Smin)\n",
    "        CT = np.maximum(Smax-Params['Strike'], 0)\n",
    "        PT = np.maximum(Params['Strike']-Smin, 0)\n",
    "\n",
    "    elif type_of_option is 'Asian':\n",
    "        for t in range(Params['Steps']):\n",
    "            W = np.sqrt(Tstep)*np.random.standard_normal(Params['N'])\n",
    "            St = St*np.exp(Tstep*(Params['InterestRate']-0.5*Params['Volatility']**2) + Params['Volatility']*W)\n",
    "            i = t+1\n",
    "            Smean = (i-1)*Smean/i + St/i\n",
    "\n",
    "        CT = np.maximum(Smean-Params['Strike'], 0)\n",
    "        PT = np.maximum(Params['Strike']-Smean, 0)\n",
    "\n",
    "    elif type_of_option is 'FloatingLookback':\n",
    "        for t in range(Params['Steps']):\n",
    "            W = np.sqrt(Tstep)*np.random.standard_normal(Params['N'])\n",
    "            St = St*np.exp(Tstep*(Params['InterestRate']-0.5*Params['Volatility']**2) + Params['Volatility']*W)\n",
    "            Smax = np.maximum(St, Smax)\n",
    "            Smin = np.minimum(St, Smin)\n",
    "\n",
    "        CT = np.maximum(St-Smin, 0)\n",
    "        PT = np.maximum(Smax-St, 0)\n",
    "        \n",
    "    Price_C = CT.mean()*np.exp(-Params['InterestRate']*Params['T'])\n",
    "    Price_P = PT.mean()*np.exp(-Params['InterestRate']*Params['T'])\n",
    "    return Price_C, Price_P\n",
    "\n",
    "\n",
    "Params = {'InterestRate' : 0.11, 'Volatility' : 0.25, 'S0' : 1, 'T':1. ,'Strike':1. ,'Steps':1000 ,'N':10000 }\n",
    "\n",
    "Price_C,Price_P=OptionPrices('FloatingLookback',Params)\n",
    "print Price_C\n",
    "print Price_P"
   ]
  }
 ],
 "metadata": {
  "anaconda-cloud": {},
  "kernelspec": {
   "display_name": "Python [conda root]",
   "language": "python",
   "name": "conda-root-py"
  },
  "language_info": {
   "codemirror_mode": {
    "name": "ipython",
    "version": 2
   },
   "file_extension": ".py",
   "mimetype": "text/x-python",
   "name": "python",
   "nbconvert_exporter": "python",
   "pygments_lexer": "ipython2",
   "version": "2.7.12"
  }
 },
 "nbformat": 4,
 "nbformat_minor": 1
}

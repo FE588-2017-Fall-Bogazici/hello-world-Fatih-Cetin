{
 "cells": [
  {
   "cell_type": "code",
   "execution_count": 11,
   "metadata": {},
   "outputs": [
    {
     "data": {
      "text/plain": [
       "{'a': 5, 'b': 17, 'c': 8, 'd': 0}"
      ]
     },
     "execution_count": 11,
     "metadata": {},
     "output_type": "execute_result"
    }
   ],
   "source": [
    "txt = 'babababbcbcbcbbcbcbcbcbcbbbaba'\n",
    "counts = {'a':0, 'b':0, 'c':0}\n",
    "\n",
    "for i in range(len(txt)):\n",
    "    counts[txt[i]]+=1\n",
    "    \n",
    "counts\n",
    "\n",
    "counts['d'] = 0\n",
    "counts"
   ]
  },
  {
   "cell_type": "code",
   "execution_count": 13,
   "metadata": {},
   "outputs": [
    {
     "data": {
      "text/plain": [
       "{'ab': 4, 'ba': 5, 'bb': 4, 'bc': 8, 'cb': 8}"
      ]
     },
     "execution_count": 13,
     "metadata": {},
     "output_type": "execute_result"
    }
   ],
   "source": [
    "counts = {}\n",
    "for i in range(len(txt)-1):\n",
    "    key = txt[i]+txt[i+1]\n",
    "    if key in counts.keys():\n",
    "        counts[key] +=1\n",
    "    else:\n",
    "        counts[key]=1\n",
    "        \n",
    "counts"
   ]
  },
  {
   "cell_type": "code",
   "execution_count": 30,
   "metadata": {},
   "outputs": [
    {
     "name": "stdout",
     "output_type": "stream",
     "text": [
      "JSON\n",
      "JavaScript\n",
      "Object\n",
      "Notation\n",
      "is\n",
      "a\n",
      "lightweight\n",
      "datainterchange\n"
     ]
    }
   ],
   "source": [
    "txt = 'JSON (JavaScript Object Notation) is a lightweight data-interchange format.'\n",
    "temp = txt\n",
    "remove_list = ['(',')',',','.','-']\n",
    "while True:\n",
    "    words = temp.partition(' ')\n",
    "    if words[2] == '':\n",
    "        break\n",
    "    w = words[0]\n",
    "    \n",
    "    for l in remove_list:\n",
    "        w = w.replace(l,'')\n",
    "    if len(w)>0:\n",
    "        print(w)\n",
    "    temp=words[2]\n"
   ]
  },
  {
   "cell_type": "code",
   "execution_count": 36,
   "metadata": {},
   "outputs": [
    {
     "data": {
      "text/plain": [
       "'JSSOONN  ((JJaavvaaSSccrriipptt  OObbjjeecctt  NNoottaattiioonn))  iiss  aa  lliigghhttwweeiigghhtt  ddaattaa--iinntteerrcchhaannggee  ffoorrmmaatt.'"
      ]
     },
     "execution_count": 36,
     "metadata": {},
     "output_type": "execute_result"
    }
   ],
   "source": [
    "txt = 'JSON (JavaScript Object Notation) is a lightweight data-interchange format.'\n",
    "key=''\n",
    "for i in range(len(txt)-1):\n",
    "    key += txt[i]+txt[i+1]\n",
    "key"
   ]
  },
  {
   "cell_type": "code",
   "execution_count": null,
   "metadata": {
    "collapsed": true
   },
   "outputs": [],
   "source": []
  },
  {
   "cell_type": "code",
   "execution_count": 38,
   "metadata": {},
   "outputs": [
    {
     "data": {
      "text/plain": [
       "'JJJJSSSSOOOONNNN    ((((JJJJaaaavvvvaaaaSSSSccccrrrriiiipppptttt    OOOObbbbjjjjeeeecccctttt    NNNNoooottttaaaattttiiiioooonnnn))))    iiiissss    aaaa    lllliiiigggghhhhttttwwwweeeeiiiigggghhhhtttt    ddddaaaattttaaaa----iiiinnnntttteeeerrrrcccchhhhaaaannnnggggeeee    ffffoooorrrrmmmmaaaatttt'"
      ]
     },
     "execution_count": 38,
     "metadata": {},
     "output_type": "execute_result"
    }
   ],
   "source": [
    "txt = 'JSON (JavaScript Object Notation) is a lightweight data-interchange format.'\n",
    "key=''\n",
    "for i in range(len(txt)-1):\n",
    "    key += txt[i]+txt[i]*3\n",
    "key"
   ]
  },
  {
   "cell_type": "code",
   "execution_count": 39,
   "metadata": {
    "collapsed": true
   },
   "outputs": [],
   "source": [
    "import pandas as pd\n",
    "\n",
    "ids = [100, 200, 300, 301, 308]\n",
    "names  = ['Ali', 'Veli', 'Ayse', 'Fatma', 'Gamze']\n",
    "surnames  = ['Yilmaz', 'Gorali', 'Tasci', 'Bakkaloglu', 'Yilmaz']\n",
    "ages   = [27,32,19,28,32]\n",
    "gender = ['M','M','F','F','F']\n",
    "city = ['Istanbul', 'Istanbul', 'Ankara', 'Istanbul', 'Izmir']\n",
    "\n",
    "number_plate = [('Adana','01'), ('Eskisehir','26'), ('Istanbul', '34'), ('Ankara', '06'), ('Izmir', '35'), ('Denizli','20') ]\n",
    "s = pd.Series(names)\n"
   ]
  },
  {
   "cell_type": "code",
   "execution_count": 61,
   "metadata": {},
   "outputs": [
    {
     "data": {
      "text/html": [
       "<div>\n",
       "<style>\n",
       "    .dataframe thead tr:only-child th {\n",
       "        text-align: right;\n",
       "    }\n",
       "\n",
       "    .dataframe thead th {\n",
       "        text-align: left;\n",
       "    }\n",
       "\n",
       "    .dataframe tbody tr th {\n",
       "        vertical-align: top;\n",
       "    }\n",
       "</style>\n",
       "<table border=\"1\" class=\"dataframe\">\n",
       "  <thead>\n",
       "    <tr style=\"text-align: right;\">\n",
       "      <th></th>\n",
       "      <th>Name</th>\n",
       "      <th>Surname</th>\n",
       "    </tr>\n",
       "  </thead>\n",
       "  <tbody>\n",
       "    <tr>\n",
       "      <th>1</th>\n",
       "      <td>Ali</td>\n",
       "      <td>Yilmaz</td>\n",
       "    </tr>\n",
       "    <tr>\n",
       "      <th>2</th>\n",
       "      <td>Veli</td>\n",
       "      <td>Gorali</td>\n",
       "    </tr>\n",
       "    <tr>\n",
       "      <th>3</th>\n",
       "      <td>Ayse</td>\n",
       "      <td>Tasci</td>\n",
       "    </tr>\n",
       "    <tr>\n",
       "      <th>4</th>\n",
       "      <td>Fatma</td>\n",
       "      <td>Bakkaloglu</td>\n",
       "    </tr>\n",
       "    <tr>\n",
       "      <th>5</th>\n",
       "      <td>Gamze</td>\n",
       "      <td>Yilmaz</td>\n",
       "    </tr>\n",
       "  </tbody>\n",
       "</table>\n",
       "</div>"
      ],
      "text/plain": [
       "    Name     Surname\n",
       "1    Ali      Yilmaz\n",
       "2   Veli      Gorali\n",
       "3   Ayse       Tasci\n",
       "4  Fatma  Bakkaloglu\n",
       "5  Gamze      Yilmaz"
      ]
     },
     "execution_count": 61,
     "metadata": {},
     "output_type": "execute_result"
    }
   ],
   "source": [
    "\n",
    "df = pd.DataFrame(data={'Name': names, 'Surname': surnames, 'Age': ages, 'Gender': gender, 'City': city},\n",
    "                  index=ids)\n",
    "#df1 = df[[3,0,2,1]]\n",
    "df1 = df\n",
    "df = pd.DataFrame(number_plate, columns=['City','Plate'])\n",
    "df2 = df\n",
    "df3 = pd.DataFrame(data={'Name': names, 'Surname': surnames},index=range(1,len(names)+1))\n",
    "df3"
   ]
  },
  {
   "cell_type": "code",
   "execution_count": 48,
   "metadata": {},
   "outputs": [
    {
     "data": {
      "text/html": [
       "<div>\n",
       "<style>\n",
       "    .dataframe thead tr:only-child th {\n",
       "        text-align: right;\n",
       "    }\n",
       "\n",
       "    .dataframe thead th {\n",
       "        text-align: left;\n",
       "    }\n",
       "\n",
       "    .dataframe tbody tr th {\n",
       "        vertical-align: top;\n",
       "    }\n",
       "</style>\n",
       "<table border=\"1\" class=\"dataframe\">\n",
       "  <thead>\n",
       "    <tr style=\"text-align: right;\">\n",
       "      <th></th>\n",
       "      <th>Age</th>\n",
       "      <th>City</th>\n",
       "      <th>Gender</th>\n",
       "      <th>Name</th>\n",
       "      <th>Surname</th>\n",
       "    </tr>\n",
       "  </thead>\n",
       "  <tbody>\n",
       "    <tr>\n",
       "      <th>100</th>\n",
       "      <td>27</td>\n",
       "      <td>Istanbul</td>\n",
       "      <td>M</td>\n",
       "      <td>Ali</td>\n",
       "      <td>Yilmaz</td>\n",
       "    </tr>\n",
       "    <tr>\n",
       "      <th>200</th>\n",
       "      <td>32</td>\n",
       "      <td>Istanbul</td>\n",
       "      <td>M</td>\n",
       "      <td>Veli</td>\n",
       "      <td>Gorali</td>\n",
       "    </tr>\n",
       "    <tr>\n",
       "      <th>300</th>\n",
       "      <td>19</td>\n",
       "      <td>Ankara</td>\n",
       "      <td>F</td>\n",
       "      <td>Ayse</td>\n",
       "      <td>Tasci</td>\n",
       "    </tr>\n",
       "    <tr>\n",
       "      <th>301</th>\n",
       "      <td>28</td>\n",
       "      <td>Istanbul</td>\n",
       "      <td>F</td>\n",
       "      <td>Fatma</td>\n",
       "      <td>Bakkaloglu</td>\n",
       "    </tr>\n",
       "    <tr>\n",
       "      <th>308</th>\n",
       "      <td>32</td>\n",
       "      <td>Izmir</td>\n",
       "      <td>F</td>\n",
       "      <td>Gamze</td>\n",
       "      <td>Yilmaz</td>\n",
       "    </tr>\n",
       "  </tbody>\n",
       "</table>\n",
       "</div>"
      ],
      "text/plain": [
       "     Age      City Gender   Name     Surname\n",
       "100   27  Istanbul      M    Ali      Yilmaz\n",
       "200   32  Istanbul      M   Veli      Gorali\n",
       "300   19    Ankara      F   Ayse       Tasci\n",
       "301   28  Istanbul      F  Fatma  Bakkaloglu\n",
       "308   32     Izmir      F  Gamze      Yilmaz"
      ]
     },
     "execution_count": 48,
     "metadata": {},
     "output_type": "execute_result"
    }
   ],
   "source": [
    "df1"
   ]
  },
  {
   "cell_type": "code",
   "execution_count": 50,
   "metadata": {},
   "outputs": [
    {
     "data": {
      "text/html": [
       "<div>\n",
       "<style>\n",
       "    .dataframe thead tr:only-child th {\n",
       "        text-align: right;\n",
       "    }\n",
       "\n",
       "    .dataframe thead th {\n",
       "        text-align: left;\n",
       "    }\n",
       "\n",
       "    .dataframe tbody tr th {\n",
       "        vertical-align: top;\n",
       "    }\n",
       "</style>\n",
       "<table border=\"1\" class=\"dataframe\">\n",
       "  <thead>\n",
       "    <tr style=\"text-align: right;\">\n",
       "      <th></th>\n",
       "      <th>City</th>\n",
       "      <th>Plate</th>\n",
       "    </tr>\n",
       "  </thead>\n",
       "  <tbody>\n",
       "    <tr>\n",
       "      <th>0</th>\n",
       "      <td>Adana</td>\n",
       "      <td>01</td>\n",
       "    </tr>\n",
       "    <tr>\n",
       "      <th>1</th>\n",
       "      <td>Eskisehir</td>\n",
       "      <td>26</td>\n",
       "    </tr>\n",
       "    <tr>\n",
       "      <th>2</th>\n",
       "      <td>Istanbul</td>\n",
       "      <td>34</td>\n",
       "    </tr>\n",
       "    <tr>\n",
       "      <th>3</th>\n",
       "      <td>Ankara</td>\n",
       "      <td>06</td>\n",
       "    </tr>\n",
       "    <tr>\n",
       "      <th>4</th>\n",
       "      <td>Izmir</td>\n",
       "      <td>35</td>\n",
       "    </tr>\n",
       "    <tr>\n",
       "      <th>5</th>\n",
       "      <td>Denizli</td>\n",
       "      <td>20</td>\n",
       "    </tr>\n",
       "  </tbody>\n",
       "</table>\n",
       "</div>"
      ],
      "text/plain": [
       "        City Plate\n",
       "0      Adana    01\n",
       "1  Eskisehir    26\n",
       "2   Istanbul    34\n",
       "3     Ankara    06\n",
       "4      Izmir    35\n",
       "5    Denizli    20"
      ]
     },
     "execution_count": 50,
     "metadata": {},
     "output_type": "execute_result"
    }
   ],
   "source": [
    "df2"
   ]
  },
  {
   "cell_type": "code",
   "execution_count": 55,
   "metadata": {},
   "outputs": [
    {
     "data": {
      "text/html": [
       "<div>\n",
       "<style>\n",
       "    .dataframe thead tr:only-child th {\n",
       "        text-align: right;\n",
       "    }\n",
       "\n",
       "    .dataframe thead th {\n",
       "        text-align: left;\n",
       "    }\n",
       "\n",
       "    .dataframe tbody tr th {\n",
       "        vertical-align: top;\n",
       "    }\n",
       "</style>\n",
       "<table border=\"1\" class=\"dataframe\">\n",
       "  <thead>\n",
       "    <tr style=\"text-align: right;\">\n",
       "      <th></th>\n",
       "      <th>Place</th>\n",
       "      <th>Latitude</th>\n",
       "      <th>Long</th>\n",
       "    </tr>\n",
       "  </thead>\n",
       "  <tbody>\n",
       "    <tr>\n",
       "      <th>0</th>\n",
       "      <td>Kadıköy</td>\n",
       "      <td>49.1</td>\n",
       "      <td>37.2</td>\n",
       "    </tr>\n",
       "    <tr>\n",
       "      <th>1</th>\n",
       "      <td>Etiler</td>\n",
       "      <td>49.12</td>\n",
       "      <td>36.3</td>\n",
       "    </tr>\n",
       "    <tr>\n",
       "      <th>2</th>\n",
       "      <td>Yeşilköy</td>\n",
       "      <td>49.18</td>\n",
       "      <td>39.7</td>\n",
       "    </tr>\n",
       "  </tbody>\n",
       "</table>\n",
       "</div>"
      ],
      "text/plain": [
       "      Place Latitude  Long\n",
       "0   Kadıköy     49.1  37.2\n",
       "1    Etiler    49.12  36.3\n",
       "2  Yeşilköy    49.18  39.7"
      ]
     },
     "execution_count": 55,
     "metadata": {},
     "output_type": "execute_result"
    }
   ],
   "source": [
    "kordinat = [('Kadıköy','49.1','37.2'), ('Etiler','49.12','36.3'), ('Yeşilköy', '49.18','39.7') ]\n",
    "df4 = pd.DataFrame(kordinat, columns=['Place','Latitude','Long'])\n",
    "df4"
   ]
  },
  {
   "cell_type": "code",
   "execution_count": 58,
   "metadata": {},
   "outputs": [
    {
     "data": {
      "text/plain": [
       "0     Kadıköy\n",
       "1      Etiler\n",
       "2    Yeşilköy\n",
       "Name: Place, dtype: object"
      ]
     },
     "execution_count": 58,
     "metadata": {},
     "output_type": "execute_result"
    }
   ],
   "source": [
    "df4['Place']"
   ]
  },
  {
   "cell_type": "code",
   "execution_count": 59,
   "metadata": {},
   "outputs": [
    {
     "data": {
      "text/html": [
       "<div>\n",
       "<style>\n",
       "    .dataframe thead tr:only-child th {\n",
       "        text-align: right;\n",
       "    }\n",
       "\n",
       "    .dataframe thead th {\n",
       "        text-align: left;\n",
       "    }\n",
       "\n",
       "    .dataframe tbody tr th {\n",
       "        vertical-align: top;\n",
       "    }\n",
       "</style>\n",
       "<table border=\"1\" class=\"dataframe\">\n",
       "  <thead>\n",
       "    <tr style=\"text-align: right;\">\n",
       "      <th></th>\n",
       "      <th>Latitude</th>\n",
       "      <th>Long</th>\n",
       "    </tr>\n",
       "  </thead>\n",
       "  <tbody>\n",
       "    <tr>\n",
       "      <th>0</th>\n",
       "      <td>49.1</td>\n",
       "      <td>37.2</td>\n",
       "    </tr>\n",
       "    <tr>\n",
       "      <th>1</th>\n",
       "      <td>49.12</td>\n",
       "      <td>36.3</td>\n",
       "    </tr>\n",
       "    <tr>\n",
       "      <th>2</th>\n",
       "      <td>49.18</td>\n",
       "      <td>39.7</td>\n",
       "    </tr>\n",
       "  </tbody>\n",
       "</table>\n",
       "</div>"
      ],
      "text/plain": [
       "  Latitude  Long\n",
       "0     49.1  37.2\n",
       "1    49.12  36.3\n",
       "2    49.18  39.7"
      ]
     },
     "execution_count": 59,
     "metadata": {},
     "output_type": "execute_result"
    }
   ],
   "source": [
    "df4[['Latitude','Long']]"
   ]
  },
  {
   "cell_type": "code",
   "execution_count": 62,
   "metadata": {},
   "outputs": [
    {
     "data": {
      "text/html": [
       "<div>\n",
       "<style>\n",
       "    .dataframe thead tr:only-child th {\n",
       "        text-align: right;\n",
       "    }\n",
       "\n",
       "    .dataframe thead th {\n",
       "        text-align: left;\n",
       "    }\n",
       "\n",
       "    .dataframe tbody tr th {\n",
       "        vertical-align: top;\n",
       "    }\n",
       "</style>\n",
       "<table border=\"1\" class=\"dataframe\">\n",
       "  <thead>\n",
       "    <tr style=\"text-align: right;\">\n",
       "      <th></th>\n",
       "      <th>Age</th>\n",
       "      <th>City</th>\n",
       "      <th>Gender</th>\n",
       "      <th>Name</th>\n",
       "      <th>Surname</th>\n",
       "      <th>Plate</th>\n",
       "    </tr>\n",
       "  </thead>\n",
       "  <tbody>\n",
       "    <tr>\n",
       "      <th>0</th>\n",
       "      <td>27</td>\n",
       "      <td>Istanbul</td>\n",
       "      <td>M</td>\n",
       "      <td>Ali</td>\n",
       "      <td>Yilmaz</td>\n",
       "      <td>34</td>\n",
       "    </tr>\n",
       "    <tr>\n",
       "      <th>1</th>\n",
       "      <td>32</td>\n",
       "      <td>Istanbul</td>\n",
       "      <td>M</td>\n",
       "      <td>Veli</td>\n",
       "      <td>Gorali</td>\n",
       "      <td>34</td>\n",
       "    </tr>\n",
       "    <tr>\n",
       "      <th>2</th>\n",
       "      <td>28</td>\n",
       "      <td>Istanbul</td>\n",
       "      <td>F</td>\n",
       "      <td>Fatma</td>\n",
       "      <td>Bakkaloglu</td>\n",
       "      <td>34</td>\n",
       "    </tr>\n",
       "    <tr>\n",
       "      <th>3</th>\n",
       "      <td>19</td>\n",
       "      <td>Ankara</td>\n",
       "      <td>F</td>\n",
       "      <td>Ayse</td>\n",
       "      <td>Tasci</td>\n",
       "      <td>06</td>\n",
       "    </tr>\n",
       "    <tr>\n",
       "      <th>4</th>\n",
       "      <td>32</td>\n",
       "      <td>Izmir</td>\n",
       "      <td>F</td>\n",
       "      <td>Gamze</td>\n",
       "      <td>Yilmaz</td>\n",
       "      <td>35</td>\n",
       "    </tr>\n",
       "  </tbody>\n",
       "</table>\n",
       "</div>"
      ],
      "text/plain": [
       "   Age      City Gender   Name     Surname Plate\n",
       "0   27  Istanbul      M    Ali      Yilmaz    34\n",
       "1   32  Istanbul      M   Veli      Gorali    34\n",
       "2   28  Istanbul      F  Fatma  Bakkaloglu    34\n",
       "3   19    Ankara      F   Ayse       Tasci    06\n",
       "4   32     Izmir      F  Gamze      Yilmaz    35"
      ]
     },
     "execution_count": 62,
     "metadata": {},
     "output_type": "execute_result"
    }
   ],
   "source": [
    "pd.merge(df1, df2, on='City',  how='inner')"
   ]
  },
  {
   "cell_type": "code",
   "execution_count": 63,
   "metadata": {},
   "outputs": [
    {
     "data": {
      "text/html": [
       "<div>\n",
       "<style>\n",
       "    .dataframe thead tr:only-child th {\n",
       "        text-align: right;\n",
       "    }\n",
       "\n",
       "    .dataframe thead th {\n",
       "        text-align: left;\n",
       "    }\n",
       "\n",
       "    .dataframe tbody tr th {\n",
       "        vertical-align: top;\n",
       "    }\n",
       "</style>\n",
       "<table border=\"1\" class=\"dataframe\">\n",
       "  <thead>\n",
       "    <tr style=\"text-align: right;\">\n",
       "      <th></th>\n",
       "      <th>Age</th>\n",
       "      <th>City</th>\n",
       "      <th>Gender</th>\n",
       "      <th>Name</th>\n",
       "      <th>Surname</th>\n",
       "      <th>Plate</th>\n",
       "    </tr>\n",
       "  </thead>\n",
       "  <tbody>\n",
       "    <tr>\n",
       "      <th>5</th>\n",
       "      <td>NaN</td>\n",
       "      <td>Adana</td>\n",
       "      <td>NaN</td>\n",
       "      <td>NaN</td>\n",
       "      <td>NaN</td>\n",
       "      <td>01</td>\n",
       "    </tr>\n",
       "    <tr>\n",
       "      <th>3</th>\n",
       "      <td>19.0</td>\n",
       "      <td>Ankara</td>\n",
       "      <td>F</td>\n",
       "      <td>Ayse</td>\n",
       "      <td>Tasci</td>\n",
       "      <td>06</td>\n",
       "    </tr>\n",
       "    <tr>\n",
       "      <th>7</th>\n",
       "      <td>NaN</td>\n",
       "      <td>Denizli</td>\n",
       "      <td>NaN</td>\n",
       "      <td>NaN</td>\n",
       "      <td>NaN</td>\n",
       "      <td>20</td>\n",
       "    </tr>\n",
       "    <tr>\n",
       "      <th>6</th>\n",
       "      <td>NaN</td>\n",
       "      <td>Eskisehir</td>\n",
       "      <td>NaN</td>\n",
       "      <td>NaN</td>\n",
       "      <td>NaN</td>\n",
       "      <td>26</td>\n",
       "    </tr>\n",
       "    <tr>\n",
       "      <th>0</th>\n",
       "      <td>27.0</td>\n",
       "      <td>Istanbul</td>\n",
       "      <td>M</td>\n",
       "      <td>Ali</td>\n",
       "      <td>Yilmaz</td>\n",
       "      <td>34</td>\n",
       "    </tr>\n",
       "    <tr>\n",
       "      <th>1</th>\n",
       "      <td>32.0</td>\n",
       "      <td>Istanbul</td>\n",
       "      <td>M</td>\n",
       "      <td>Veli</td>\n",
       "      <td>Gorali</td>\n",
       "      <td>34</td>\n",
       "    </tr>\n",
       "    <tr>\n",
       "      <th>2</th>\n",
       "      <td>28.0</td>\n",
       "      <td>Istanbul</td>\n",
       "      <td>F</td>\n",
       "      <td>Fatma</td>\n",
       "      <td>Bakkaloglu</td>\n",
       "      <td>34</td>\n",
       "    </tr>\n",
       "    <tr>\n",
       "      <th>4</th>\n",
       "      <td>32.0</td>\n",
       "      <td>Izmir</td>\n",
       "      <td>F</td>\n",
       "      <td>Gamze</td>\n",
       "      <td>Yilmaz</td>\n",
       "      <td>35</td>\n",
       "    </tr>\n",
       "  </tbody>\n",
       "</table>\n",
       "</div>"
      ],
      "text/plain": [
       "    Age       City Gender   Name     Surname Plate\n",
       "5   NaN      Adana    NaN    NaN         NaN    01\n",
       "3  19.0     Ankara      F   Ayse       Tasci    06\n",
       "7   NaN    Denizli    NaN    NaN         NaN    20\n",
       "6   NaN  Eskisehir    NaN    NaN         NaN    26\n",
       "0  27.0   Istanbul      M    Ali      Yilmaz    34\n",
       "1  32.0   Istanbul      M   Veli      Gorali    34\n",
       "2  28.0   Istanbul      F  Fatma  Bakkaloglu    34\n",
       "4  32.0      Izmir      F  Gamze      Yilmaz    35"
      ]
     },
     "execution_count": 63,
     "metadata": {},
     "output_type": "execute_result"
    }
   ],
   "source": [
    "pd.merge(df1, df2, how='outer').sort_values('Plate')"
   ]
  },
  {
   "cell_type": "code",
   "execution_count": 64,
   "metadata": {},
   "outputs": [
    {
     "data": {
      "text/html": [
       "<div>\n",
       "<style>\n",
       "    .dataframe thead tr:only-child th {\n",
       "        text-align: right;\n",
       "    }\n",
       "\n",
       "    .dataframe thead th {\n",
       "        text-align: left;\n",
       "    }\n",
       "\n",
       "    .dataframe tbody tr th {\n",
       "        vertical-align: top;\n",
       "    }\n",
       "</style>\n",
       "<table border=\"1\" class=\"dataframe\">\n",
       "  <thead>\n",
       "    <tr style=\"text-align: right;\">\n",
       "      <th></th>\n",
       "      <th>Name</th>\n",
       "      <th>Plate</th>\n",
       "    </tr>\n",
       "  </thead>\n",
       "  <tbody>\n",
       "    <tr>\n",
       "      <th>0</th>\n",
       "      <td>Ali</td>\n",
       "      <td>34</td>\n",
       "    </tr>\n",
       "    <tr>\n",
       "      <th>1</th>\n",
       "      <td>Veli</td>\n",
       "      <td>34</td>\n",
       "    </tr>\n",
       "    <tr>\n",
       "      <th>2</th>\n",
       "      <td>Fatma</td>\n",
       "      <td>34</td>\n",
       "    </tr>\n",
       "    <tr>\n",
       "      <th>3</th>\n",
       "      <td>Ayse</td>\n",
       "      <td>06</td>\n",
       "    </tr>\n",
       "    <tr>\n",
       "      <th>4</th>\n",
       "      <td>Gamze</td>\n",
       "      <td>35</td>\n",
       "    </tr>\n",
       "  </tbody>\n",
       "</table>\n",
       "</div>"
      ],
      "text/plain": [
       "    Name Plate\n",
       "0    Ali    34\n",
       "1   Veli    34\n",
       "2  Fatma    34\n",
       "3   Ayse    06\n",
       "4  Gamze    35"
      ]
     },
     "execution_count": 64,
     "metadata": {},
     "output_type": "execute_result"
    }
   ],
   "source": [
    "pd.merge(df1, df2, on='City',  how='inner')[['Name','Plate']]"
   ]
  },
  {
   "cell_type": "code",
   "execution_count": 65,
   "metadata": {},
   "outputs": [
    {
     "data": {
      "text/html": [
       "<div>\n",
       "<style>\n",
       "    .dataframe thead tr:only-child th {\n",
       "        text-align: right;\n",
       "    }\n",
       "\n",
       "    .dataframe thead th {\n",
       "        text-align: left;\n",
       "    }\n",
       "\n",
       "    .dataframe tbody tr th {\n",
       "        vertical-align: top;\n",
       "    }\n",
       "</style>\n",
       "<table border=\"1\" class=\"dataframe\">\n",
       "  <thead>\n",
       "    <tr style=\"text-align: right;\">\n",
       "      <th></th>\n",
       "      <th>Age</th>\n",
       "      <th>City</th>\n",
       "      <th>Gender</th>\n",
       "      <th>Name</th>\n",
       "      <th>Surname</th>\n",
       "      <th>Plate</th>\n",
       "    </tr>\n",
       "  </thead>\n",
       "  <tbody>\n",
       "    <tr>\n",
       "      <th>0</th>\n",
       "      <td>27</td>\n",
       "      <td>Istanbul</td>\n",
       "      <td>M</td>\n",
       "      <td>Ali</td>\n",
       "      <td>Yilmaz</td>\n",
       "      <td>34</td>\n",
       "    </tr>\n",
       "    <tr>\n",
       "      <th>3</th>\n",
       "      <td>19</td>\n",
       "      <td>Ankara</td>\n",
       "      <td>F</td>\n",
       "      <td>Ayse</td>\n",
       "      <td>Tasci</td>\n",
       "      <td>06</td>\n",
       "    </tr>\n",
       "    <tr>\n",
       "      <th>2</th>\n",
       "      <td>28</td>\n",
       "      <td>Istanbul</td>\n",
       "      <td>F</td>\n",
       "      <td>Fatma</td>\n",
       "      <td>Bakkaloglu</td>\n",
       "      <td>34</td>\n",
       "    </tr>\n",
       "    <tr>\n",
       "      <th>4</th>\n",
       "      <td>32</td>\n",
       "      <td>Izmir</td>\n",
       "      <td>F</td>\n",
       "      <td>Gamze</td>\n",
       "      <td>Yilmaz</td>\n",
       "      <td>35</td>\n",
       "    </tr>\n",
       "    <tr>\n",
       "      <th>1</th>\n",
       "      <td>32</td>\n",
       "      <td>Istanbul</td>\n",
       "      <td>M</td>\n",
       "      <td>Veli</td>\n",
       "      <td>Gorali</td>\n",
       "      <td>34</td>\n",
       "    </tr>\n",
       "  </tbody>\n",
       "</table>\n",
       "</div>"
      ],
      "text/plain": [
       "   Age      City Gender   Name     Surname Plate\n",
       "0   27  Istanbul      M    Ali      Yilmaz    34\n",
       "3   19    Ankara      F   Ayse       Tasci    06\n",
       "2   28  Istanbul      F  Fatma  Bakkaloglu    34\n",
       "4   32     Izmir      F  Gamze      Yilmaz    35\n",
       "1   32  Istanbul      M   Veli      Gorali    34"
      ]
     },
     "execution_count": 65,
     "metadata": {},
     "output_type": "execute_result"
    }
   ],
   "source": [
    "pd.merge(df1, df2, on='City',  how='inner').sort_values('Name')"
   ]
  }
 ],
 "metadata": {
  "kernelspec": {
   "display_name": "Python 3",
   "language": "python",
   "name": "python3"
  },
  "language_info": {
   "codemirror_mode": {
    "name": "ipython",
    "version": 3
   },
   "file_extension": ".py",
   "mimetype": "text/x-python",
   "name": "python",
   "nbconvert_exporter": "python",
   "pygments_lexer": "ipython3",
   "version": "3.6.2"
  }
 },
 "nbformat": 4,
 "nbformat_minor": 2
}
